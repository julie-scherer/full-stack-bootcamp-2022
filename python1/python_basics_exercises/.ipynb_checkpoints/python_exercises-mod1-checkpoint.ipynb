{
 "cells": [
  {
   "cell_type": "markdown",
   "id": "1edac080",
   "metadata": {},
   "source": [
    "# Exercise 1\n",
    "\n",
    "Cube Number Test... Print out all cubed numbers up to the total value 1000. Meaning that if the cubed number is over 1000 break the loop."
   ]
  },
  {
   "cell_type": "code",
   "execution_count": 4,
   "id": "b12d1984",
   "metadata": {},
   "outputs": [
    {
     "name": "stdout",
     "output_type": "stream",
     "text": [
      "0\n",
      "1\n",
      "8\n",
      "27\n",
      "64\n",
      "125\n",
      "216\n",
      "343\n",
      "512\n",
      "729\n"
     ]
    }
   ],
   "source": [
    "def cubed_numbers(n):\n",
    "    [print(i**3) for i in range(n) if i**3 < n]\n",
    "#     return [i**3 for i in range(n) if i**3 < n]\n",
    "\n",
    "cubed_numbers(1000)"
   ]
  },
  {
   "cell_type": "markdown",
   "id": "a5f958d7",
   "metadata": {},
   "source": [
    "# Exercise 2\n",
    "\n",
    "Get first prime numbers up to 100"
   ]
  },
  {
   "cell_type": "code",
   "execution_count": 2,
   "id": "330c35bb",
   "metadata": {},
   "outputs": [
    {
     "data": {
      "text/plain": [
       "[2,\n",
       " 3,\n",
       " 5,\n",
       " 7,\n",
       " 11,\n",
       " 13,\n",
       " 17,\n",
       " 19,\n",
       " 23,\n",
       " 29,\n",
       " 31,\n",
       " 37,\n",
       " 41,\n",
       " 43,\n",
       " 47,\n",
       " 53,\n",
       " 59,\n",
       " 61,\n",
       " 67,\n",
       " 71,\n",
       " 73,\n",
       " 79,\n",
       " 83,\n",
       " 89,\n",
       " 97]"
      ]
     },
     "execution_count": 2,
     "metadata": {},
     "output_type": "execute_result"
    }
   ],
   "source": [
    "def prime_numbers(n):\n",
    "    return [i for i in range(2, n+1) if not(any(j for j in range(2,i) if i % j == 0))]\n",
    "\n",
    "prime_numbers(100)\n",
    "\n",
    "\n",
    "# LONG VERSION ~\n",
    "# def primes(n): \n",
    "#     prime_nums = []\n",
    "#     for i in range(2, n+1):\n",
    "#         for j in range(2,i):\n",
    "#             if i % j == 0:\n",
    "#                 break\n",
    "#         else:\n",
    "#             prime_nums.append(i)\n",
    "#     return prime_nums\n",
    "\n",
    "\n",
    "# CLASS SOLUTION ~\n",
    "# for i in range(2, 101):\n",
    "#     for j in range(2,i//2):\n",
    "#         if i % j == 0:\n",
    "#             break\n",
    "#     else:\n",
    "#         print(i)"
   ]
  },
  {
   "cell_type": "markdown",
   "id": "fb702973",
   "metadata": {},
   "source": [
    "# Exercise 3\n",
    "\n",
    "Take in a users input for their age, if they are younger than 18 print kids, if they're 18 to 65 print adults, else print seniors. Gracefully log the error if the user doesn't enter a number"
   ]
  },
  {
   "cell_type": "code",
   "execution_count": 3,
   "id": "487c3477",
   "metadata": {},
   "outputs": [],
   "source": [
    "def age_group(input_val):\n",
    "    input_val = input('How old are you (years)? ')\n",
    "    if not input_val.isnumeric():\n",
    "        input_val = input('Sorry, I do not understand. Please enter a number. How many years old are you? ')\n",
    "    age = int(input_val)\n",
    "    if age < 18:\n",
    "        print(\"kids\")\n",
    "    elif age >= 18 and age <= 65:\n",
    "        print(\"adults\")\n",
    "    else:\n",
    "        print(\"seniors\")"
   ]
  },
  {
   "cell_type": "code",
   "execution_count": null,
   "id": "26aaa2ed",
   "metadata": {},
   "outputs": [],
   "source": []
  }
 ],
 "metadata": {
  "kernelspec": {
   "display_name": "Python 3 (ipykernel)",
   "language": "python",
   "name": "python3"
  },
  "language_info": {
   "codemirror_mode": {
    "name": "ipython",
    "version": 3
   },
   "file_extension": ".py",
   "mimetype": "text/x-python",
   "name": "python",
   "nbconvert_exporter": "python",
   "pygments_lexer": "ipython3",
   "version": "3.10.5"
  }
 },
 "nbformat": 4,
 "nbformat_minor": 5
}
