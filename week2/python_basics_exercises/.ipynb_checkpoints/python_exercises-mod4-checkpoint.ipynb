{
 "cells": [
  {
   "cell_type": "markdown",
   "id": "1edac080",
   "metadata": {},
   "source": [
    "## Exercise 1 <br>\n",
    "<p>Create a program that allows a user to continue to add people to an address book until the user quits. Once the user quits, break out of the loop and print out the name and address of everyone in the address book</b></i></p><br>\n",
    "1. Create a function that will ask user for name and addresses and stores them in a dictionary<br>\n",
    "2. Define an empty dictionary with which to work (global or local variable?)<br>\n",
    "3. Begin a loop that will continue to ask a user for information until the user \"quits\"<br>\n",
    "4. If the user does not quit, ask for a name and address and store the variables into variables<br>\n",
    "5. Add information to the dictionary with name as the key and address as the value<br>\n",
    "6. If the user does quit, end the loop<br>\n",
    "7. Print out the information from the dictionary in a formatted way<br>\n",
    "8. Execute/Call the function<br>"
   ]
  },
  {
   "cell_type": "code",
   "execution_count": 1,
   "id": "b12d1984",
   "metadata": {},
   "outputs": [
    {
     "data": {
      "text/plain": [
       "'Bob lives at 123 Fake St'"
      ]
     },
     "execution_count": 1,
     "metadata": {},
     "output_type": "execute_result"
    }
   ],
   "source": [
    "# from tkinter import Y\n",
    "from IPython.display import clear_output\n",
    "\n",
    "def address_book():\n",
    "    book = {}\n",
    "    while True:\n",
    "        key_name = input('What is the name of the person you would like to add to your address book? ').title()\n",
    "        if key_name not in book:\n",
    "            book[key_name] = input(f\"What is {key_name}'s address? \").lower().title()\n",
    "        else: # if key_name IS in the address book (dictionary called 'book')\n",
    "            current_address = input(f\"The address we have on file for {key_name} is {book[key_name]}. Is this correct? y/n\").lower().title()\n",
    "            if current_address == 'n':\n",
    "                new_address = input(f\"What is {key_name}'s new address? \")\n",
    "                book[key_name] = new_address\n",
    "            else:\n",
    "                print(\"Great! Thank you for confirming.\")\n",
    "        next = input(\"Would you like to add another person to the address book? y/n \").lower()\n",
    "        if next == 'n':\n",
    "            clear_output() #clears terminal (i.e., input functions / questions)\n",
    "            break\n",
    "    for key,value in book.items():\n",
    "        return f\"{key} lives at {value}\"\n",
    "\n",
    "address_book()"
   ]
  },
  {
   "cell_type": "markdown",
   "id": "a5f958d7",
   "metadata": {},
   "source": [
    "## Exercise 2 <br>\n",
    "<p>Billy is trying to figure out if there is a time that he and his team can meet to work on the project. His three teammates each give him a list of times they are available ('HH:MM' 24-hour). Create a function that will take in an original list plus any number of lists of teammate's available times (*remember \\*args*) and return a list of times where everyone can meet.</p>\n",
    "<br>"
   ]
  },
  {
   "cell_type": "code",
   "execution_count": null,
   "id": "330c35bb",
   "metadata": {},
   "outputs": [],
   "source": [
    "person1 = ['09:00', '10:30', '11:30', '12:00', '13:00', '14:30']\n",
    "person2 = ['09:30', '10:00', '10:30', '12:00', '14:30', '16:00']\n",
    "person3 = ['09:00', '09:30', '11:00', '11:30', '12:00', '13:30', '14:30', '15:00']\n",
    "person4 = ['11:00', '11:30', '12:00', '14:00', '14:30', '16:30', '17:00']\n",
    "    \n",
    "def avail_meet_times(original_list,*args):\n",
    "    orig_set = set(original_list)\n",
    "    # print(orig_set)\n",
    "    for person_avail in args:\n",
    "        avail_set = set(person_avail)\n",
    "        orig_set = orig_set.intersection(avail_set)\n",
    "    print(orig_set)\n",
    "\n",
    "avail_meet_times(person1,person2,person3,person4)\n",
    "# Available Times: '12:00' and '14:30'"
   ]
  }
 ],
 "metadata": {
  "kernelspec": {
   "display_name": "Python 3 (ipykernel)",
   "language": "python",
   "name": "python3"
  },
  "language_info": {
   "codemirror_mode": {
    "name": "ipython",
    "version": 3
   },
   "file_extension": ".py",
   "mimetype": "text/x-python",
   "name": "python",
   "nbconvert_exporter": "python",
   "pygments_lexer": "ipython3",
   "version": "3.10.5"
  },
  "vscode": {
   "interpreter": {
    "hash": "aee8b7b246df8f9039afb4144a1f6fd8d2ca17a180786b69acc140d282b71a49"
   }
  }
 },
 "nbformat": 4,
 "nbformat_minor": 5
}
