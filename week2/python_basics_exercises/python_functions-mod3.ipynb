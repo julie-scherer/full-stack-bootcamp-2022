{
 "cells": [
  {
   "cell_type": "markdown",
   "metadata": {},
   "source": [
    "### Exercise 1"
   ]
  },
  {
   "cell_type": "markdown",
   "metadata": {},
   "source": [
    "Given an array of positive integers `nums`, return a list of all of the negative integers.<br>\n",
    "Ex. 1<br>\n",
    "nums = [1, 3, 5, 7, 8]<br>\n",
    "Expected Output: [-1, -3, -5, -7, -8]<br>\n",
    "\n",
    "Ex. 2<br>\n",
    "nums = [100, 534, 32, 15, 77, 222, 788, 345, 75645, 22]<br>\n",
    "Expected Output: [-100, -534, -32, -15, -77, -222, -788, -345, -75645, -22]<br>"
   ]
  },
  {
   "cell_type": "code",
   "execution_count": 9,
   "metadata": {},
   "outputs": [
    {
     "name": "stdout",
     "output_type": "stream",
     "text": [
      "[-1, -3, -5, -7, -8]\n",
      "[-100, -534, -32, -15, -77, -222, -788, -345, -75645, -22]\n"
     ]
    }
   ],
   "source": [
    "'''\n",
    "This function (negate) takes input (list_of_pos_nums) and returns the complementary list of negative numbers (list_of_neg_nums).\n",
    "'''\n",
    "def negate(list_of_pos_nums):\n",
    "    list_of_neg_nums = []                   ### STEP 1: Create an empty list to store the negative numbers\n",
    "    for pos_num in list_of_pos_nums:        ### STEP 2: Iterate through the list of positive numbers\n",
    "        neg_num = pos_num*-1                ### STEP 3: Multiple the positive number (pos_num) by -1 to get negative value (neg_num)\n",
    "        list_of_neg_nums.append(neg_num)    ### STEP 4: Add the negative number (neg_num) to the list of negative numbers (list_of_neg_nums)\n",
    "    return list_of_neg_nums                 ### STEP 5: After finishing the for loop, return the final list of negative numbers\n",
    "\n",
    "call_this_whatever = [1, 3, 5, 7, 8]        ### STEP 6: Define the input variable\n",
    "print(negate(call_this_whatever))           ### STEP 7: Call the function and print output\n",
    "# Output: [-1, -3, -5, -7, -8]\n",
    "\n",
    "you_name_it = [100, 534, 32, 15, 77, 222, 788, 345, 75645, 22]\n",
    "print(negate(you_name_it))\n",
    "# Output: [-100, -534, -32, -15, -77, -222, -788, -345, -75645, -22]"
   ]
  },
  {
   "cell_type": "markdown",
   "metadata": {},
   "source": [
    "### Exercise 2"
   ]
  },
  {
   "cell_type": "markdown",
   "metadata": {},
   "source": [
    "Given a string, return a list of all of the digits in the string.<br>\n",
    "Ex. 1 <br>\n",
    "address = \"123 Real Street, Apt. 2, Springfield, OR 43498\"<br>\n",
    "Expected Output: ['1', '2', '3', '2', '4', '3', '4', '9', '8']<br>\n",
    "\n",
    "Ex. 2 <br>\n",
    "sentence = \"My phone number is (555) 555-4321\"<br>\n",
    "Expected Output: ['5', '5', '5', '5', '5', '5', '4', '3', '2', '1']<br>"
   ]
  },
  {
   "cell_type": "code",
   "execution_count": 13,
   "metadata": {},
   "outputs": [
    {
     "name": "stdout",
     "output_type": "stream",
     "text": [
      "['1', '2', '3', '2', '4', '3', '4', '9', '8']\n",
      "['5', '5', '5', '5', '5', '5', '4', '3', '2', '1']\n"
     ]
    }
   ],
   "source": [
    "'''\n",
    "This function takes string as an input and returns a list of all the digits in the string. \n",
    "'''\n",
    "\n",
    "def give_me_the_digits(input_string):\n",
    "    list_of_digits = []                     ### STEP 1: Create an empty list to store digits\n",
    "    for char in input_string:               ### STEP 2: Create for loop to iterate through string. For every character in input_string...\n",
    "        if char.isdigit():                  ### STEP 3: Check if the character is an integer or float. If so...\n",
    "            list_of_digits.append(char)     ### STEP 4: Add that character (digit) to list of digits\n",
    "    return list_of_digits                   ### STEP 5: Return the final list of digits after the for loop is complete\n",
    "\n",
    "address = \"123 Real Street, Apt. 2, Springfield, OR 43498\"      ### STEP 6: Define variable\n",
    "print(give_me_the_digits(address))                              ### STEP 7: Call and print function \n",
    "# Output: ['1', '2', '3', '2', '4', '3', '4', '9', '8']\n",
    "\n",
    "sentence = \"My phone number is (555) 555-4321\"\n",
    "print(give_me_the_digits(sentence))\n",
    "# Output: ['5', '5', '5', '5', '5', '5', '4', '3', '2', '1']"
   ]
  },
  {
   "cell_type": "markdown",
   "metadata": {},
   "source": [
    "### Exercise 3"
   ]
  },
  {
   "cell_type": "markdown",
   "metadata": {},
   "source": [
    "Given a string `digits`, return a **string** of the digits + 1<br>\n",
    "\n",
    "Ex. 1<br>\n",
    "digits = '123'<br>\n",
    "Expected Output: '124'<br>\n",
    "\n",
    "Ex. 2<br>\n",
    "digits = '99'<br>\n",
    "Expected Output: '100'<br>"
   ]
  },
  {
   "cell_type": "code",
   "execution_count": 15,
   "metadata": {},
   "outputs": [
    {
     "name": "stdout",
     "output_type": "stream",
     "text": [
      "124\n",
      "<class 'str'>\n",
      "100\n",
      "<class 'str'>\n"
     ]
    }
   ],
   "source": [
    "'''\n",
    "This function takes a number in the form of a string and returns the number + 1 as a string\n",
    "'''\n",
    "def add_one(string_of_digits):\n",
    "    integerfied_digits = int(string_of_digits) + 1      # Convert the string of digits to an integer and add one\n",
    "    new_str_of_dig = str(integerfied_digits)            # Convert the integer to a string (new_str_of_dig)\n",
    "    return new_str_of_dig                               # Return the new string of digits\n",
    "\n",
    "digits = '123'\n",
    "print(add_one(digits))\n",
    "print(type(add_one(digits)))\n",
    "\n",
    "digits = '99'\n",
    "print(add_one(digits))\n",
    "print(type(add_one(digits)))"
   ]
  }
 ],
 "metadata": {
  "kernelspec": {
   "display_name": "Python 3.10.5 64-bit",
   "language": "python",
   "name": "python3"
  },
  "language_info": {
   "codemirror_mode": {
    "name": "ipython",
    "version": 3
   },
   "file_extension": ".py",
   "mimetype": "text/x-python",
   "name": "python",
   "nbconvert_exporter": "python",
   "pygments_lexer": "ipython3",
   "version": "3.10.5"
  },
  "vscode": {
   "interpreter": {
    "hash": "aee8b7b246df8f9039afb4144a1f6fd8d2ca17a180786b69acc140d282b71a49"
   }
  }
 },
 "nbformat": 4,
 "nbformat_minor": 4
}
