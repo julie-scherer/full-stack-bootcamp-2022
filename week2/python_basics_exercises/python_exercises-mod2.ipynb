{
 "cells": [
  {
   "cell_type": "markdown",
   "id": "1edac080",
   "metadata": {},
   "source": [
    "## Exercise 1 <br>\n",
    "<p>Create a list of numbers that are less than ten using l_1 and list comprehension</b></i></p><br>\n",
    "<p> Your output should [1,5,8,9]</p>"
   ]
  },
  {
   "cell_type": "code",
   "execution_count": 2,
   "id": "b12d1984",
   "metadata": {},
   "outputs": [
    {
     "name": "stdout",
     "output_type": "stream",
     "text": [
      "[1, 5, 8, 9]\n"
     ]
    }
   ],
   "source": [
    "# Use the following list - [1,11,14,5,8,9]\n",
    "\n",
    "L_1 = [1,11,14,5,8,9]\n",
    "\n",
    "# L_2 = []\n",
    "# for i in L_1:\n",
    "#     if i < 10:\n",
    "#         L_2.append(i)\n",
    "\n",
    "L_2 = [i for i in L_1 if i < 10]\n",
    "print(L_2)"
   ]
  },
  {
   "cell_type": "markdown",
   "id": "a5f958d7",
   "metadata": {},
   "source": [
    "## Exercise 2 <br>\n",
    "<p>Using list comprehension, create a list of names of 4 letters or more and capitalize each name\n",
    "<br>"
   ]
  },
  {
   "cell_type": "code",
   "execution_count": 1,
   "id": "330c35bb",
   "metadata": {},
   "outputs": [
    {
     "name": "stdout",
     "output_type": "stream",
     "text": [
      "['Connor', 'Connor', 'bob', 'Connor', 'Evan', 'max', 'Evan', 'bob', 'Kevin']\n",
      "['Connor', 'Connor', 'bob', 'Connor', 'Evan', 'max', 'Evan', 'bob', 'Kevin']\n"
     ]
    }
   ],
   "source": [
    "names1 = ['connor', 'connor', 'bob', 'connor', 'evan', 'max', 'evan', 'bob', 'kevin']\n",
    "new_names1 = [name.capitalize() if len(name) >= 4 else name for name in names1]\n",
    "print(new_names1)\n",
    "\n",
    "# new_names1 = []\n",
    "# for name in names1:\n",
    "#     if len(name) >= 4:\n",
    "#         new_names1.append(name.capitalize())\n",
    "#     else:\n",
    "#         new_names.append(name)\n",
    "\n",
    "\n",
    "# Bonus Challenge\n",
    "names2 = ['connor', 'connor', 'bob', 'connor', 'evan', 'max', 'evan', 2, 2, 2, 3, 3, 4, 'bob', 'kevin']\n",
    "new_names2 = [name.capitalize() if len(name) >= 4 else name for name in names2 if isinstance(name,str)]\n",
    "print(new_names2)"
   ]
  }
 ],
 "metadata": {
  "kernelspec": {
   "display_name": "Python 3 (ipykernel)",
   "language": "python",
   "name": "python3"
  },
  "language_info": {
   "codemirror_mode": {
    "name": "ipython",
    "version": 3
   },
   "file_extension": ".py",
   "mimetype": "text/x-python",
   "name": "python",
   "nbconvert_exporter": "python",
   "pygments_lexer": "ipython3",
   "version": "3.10.5"
  }
 },
 "nbformat": 4,
 "nbformat_minor": 5
}
