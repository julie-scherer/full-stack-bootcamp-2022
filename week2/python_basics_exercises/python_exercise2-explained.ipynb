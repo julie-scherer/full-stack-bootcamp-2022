{
 "cells": [
  {
   "cell_type": "markdown",
   "metadata": {},
   "source": [
    "### See how I completed exercise 2 in python_exercises-mod4<br>\n",
    "The Python exercise instructions and output can be found here: https://github.com/schererjulie/coding_temple/blob/main/week2/python_basics_exercises/python_exercises-mod4.ipynb"
   ]
  },
  {
   "cell_type": "code",
   "execution_count": 128,
   "metadata": {},
   "outputs": [
    {
     "name": "stdout",
     "output_type": "stream",
     "text": [
      "OG ARGUMENT: {'11:30', '09:00', '13:00', '12:00', '14:30', '10:30'}\n",
      "\n",
      "OG ARGUMENT & ARG #1 = INTERSECTION\n",
      "{'11:30', '09:00', '13:00', '12:00', '14:30', '10:30'}\n",
      "& {'09:30', '16:00', '10:00', '12:00', '14:30', '10:30'}\n",
      "= {'10:30', '12:00', '14:30'}\n",
      "\n",
      "ARG #1 & ARG #2 = INTERSECTION\n",
      "{'10:30', '12:00', '14:30'}\n",
      "& {'11:30', '09:30', '09:00', '13:30', '12:00', '14:30', '15:00', '11:00'}\n",
      "= {'12:00', '14:30'}\n",
      "\n",
      "ARG #2 & ARG #3 = INTERSECTION\n",
      "{'12:00', '14:30'}\n",
      "& {'11:30', '17:00', '12:00', '14:30', '16:30', '14:00', '11:00'}\n",
      "= {'12:00', '14:30'}\n",
      "\n",
      "Final Answer:  {'12:00', '14:30'}\n"
     ]
    }
   ],
   "source": [
    "item1 = ['09:00', '10:30', '11:30', '12:00', '13:00', '14:30']\n",
    "item2 = ['09:30', '10:00', '10:30', '12:00', '14:30', '16:00']\n",
    "item3 = ['09:00', '09:30', '11:00', '11:30', '12:00', '13:30', '14:30', '15:00']\n",
    "item4 = ['11:00', '11:30', '12:00', '14:00', '14:30', '16:30', '17:00']\n",
    "\n",
    "def meeting(first_list,*time_lists):\n",
    "    list1 = first_list\n",
    "    set1 = set(list1)\n",
    "    print(f\"OG ARGUMENT: {set1}\\n\")\n",
    "    intersect_set = set1\n",
    "\n",
    "    for i in range(len(time_lists)):\n",
    "        cur_set = set(time_lists[i])\n",
    "        last_set = \"OG ARGUMENT\"\n",
    "        if i > 0: \n",
    "            last_set = f\"ARG #{i}\"\n",
    "        temp_var = intersect_set.intersection(cur_set)\n",
    "        print(f\"{last_set} & ARG #{i+1} = INTERSECTION\\n{intersect_set}\\n& {cur_set}\\n= {temp_var}\\n\")\n",
    "        intersect_set = temp_var\n",
    "    print(\"Final Answer: \",intersect_set)\n",
    "\n",
    "meeting(item1,item2,item3,item4)"
   ]
  },
  {
   "cell_type": "markdown",
   "metadata": {},
   "source": [
    "## Common Mistake"
   ]
  },
  {
   "cell_type": "code",
   "execution_count": 129,
   "metadata": {},
   "outputs": [
    {
     "name": "stdout",
     "output_type": "stream",
     "text": [
      "\n",
      "FIRST ITEM PUT INTO THE FUNCTION: {'11:30', '09:00', '13:00', '12:00', '14:30', '10:30'}\n",
      "\n",
      "CURRENT ITEM IN THE FOR LOOP: {'09:30', '16:00', '10:00', '12:00', '14:30', '10:30'}\n",
      "ITEM WE ARE COMPARING TO: {'11:30', '09:00', '13:00', '12:00', '14:30', '10:30'}\n",
      "OUTPUT: {'10:30', '12:00', '14:30'}\n",
      "\n",
      "CURRENT ITEM IN THE FOR LOOP: {'11:30', '09:30', '09:00', '13:30', '12:00', '14:30', '15:00', '11:00'}\n",
      "ITEM WE ARE COMPARING TO: {'11:30', '09:00', '13:00', '12:00', '14:30', '10:30'}\n",
      "OUTPUT: {'09:00', '11:30', '12:00', '14:30'}\n",
      "\n",
      "CURRENT ITEM IN THE FOR LOOP: {'11:30', '17:00', '12:00', '14:30', '16:30', '14:00', '11:00'}\n",
      "ITEM WE ARE COMPARING TO: {'11:30', '09:00', '13:00', '12:00', '14:30', '10:30'}\n",
      "OUTPUT: {'11:30', '12:00', '14:30'}\n",
      "\n",
      "** Here's the answer: ***************\n",
      "   {'11:30', '12:00', '14:30'} \n",
      "*************************************\n",
      "\n"
     ]
    }
   ],
   "source": [
    "def main():\n",
    "    item1 = ['09:00', '10:30', '11:30', '12:00', '13:00', '14:30']\n",
    "    item2 = ['09:30', '10:00', '10:30', '12:00', '14:30', '16:00']\n",
    "    item3 = ['09:00', '09:30', '11:00', '11:30', '12:00', '13:30', '14:30', '15:00']\n",
    "    item4 = ['11:00', '11:30', '12:00', '14:00', '14:30', '16:30', '17:00']\n",
    "\n",
    "    def meeting(first_item,*time_lists):\n",
    "        first_item_set = set(first_item)\n",
    "        print(f\"\\nFIRST ITEM PUT INTO THE FUNCTION: {(first_item_set)}\\n\")\n",
    "        for current_item in time_lists:\n",
    "            print(f\"CURRENT ITEM IN THE FOR LOOP: {set(current_item)}\")\n",
    "            print(f\"ITEM WE ARE COMPARING TO: {first_item_set}\")\n",
    "            temp_var = first_item_set.intersection(current_item)\n",
    "            print(f\"OUTPUT: {temp_var}\\n\")\n",
    "        print(\"** Here's the answer: ***************\\n  \",temp_var,\"\\n*************************************\\n\")\n",
    "\n",
    "    meeting(item1,item2,item3,item4)\n",
    "\n",
    "main()"
   ]
  },
  {
   "cell_type": "markdown",
   "metadata": {},
   "source": [
    "## Thinking Through The Code"
   ]
  },
  {
   "cell_type": "markdown",
   "metadata": {},
   "source": [
    "#### What is happening here!?\n",
    "1. first_item_set & current_item1 = intersec1\n",
    "2. first_item_set & current_item2 = intersec2\n",
    "3. first_item_set & current_item3 = intersec3"
   ]
  },
  {
   "cell_type": "markdown",
   "metadata": {},
   "source": [
    "#### What do we want to see?\n",
    "1. first_item_set & current_item1 = intersec1 ->\n",
    "2. intersec1      & current_item2 = intersec2 ->\n",
    "3. intersec2      & current_item3 = intersec3\n",
    "\n",
    "\n",
    "##### ~ Let's work backwards to understand the logic\n",
    "Note in the list of operations we want to see, the output variable in each line is being used as an input variable in the next line<br>\n",
    "\n",
    "<li> Where are we getting the intersec variable in line #3?..<br></li>\n",
    "<li> From line #2 above. Where are we getting the intersec variable in line #2?..<br></li>\n",
    "<li> From line #1. Where does the intersec variable in line #1 come from, though??..<br></li>\n",
    "<li> From the first argument the user entered into the function.<br></li>\n",
    "\n",
    "What does that mean though? If we follow the pattern, the output of each operation is the input of the next operation, or conversely, the input of each operation is the output of the previous operation, which all starts with the first argument in the function."
   ]
  },
  {
   "cell_type": "markdown",
   "metadata": {},
   "source": [
    "## Correct Solution"
   ]
  },
  {
   "cell_type": "code",
   "execution_count": 130,
   "metadata": {},
   "outputs": [
    {
     "name": "stdout",
     "output_type": "stream",
     "text": [
      "\n",
      "FIRST ITEM PUT INTO THE FUNCTION:\n",
      "{'11:30', '09:00', '13:00', '12:00', '14:30', '10:30'}\n",
      "\n",
      "CURRENT ITEM IN THE FOR LOOP: {'09:30', '16:00', '10:00', '12:00', '14:30', '10:30'}\n",
      "ITEM WE ARE COMPARING TO: {'11:30', '09:00', '13:00', '12:00', '14:30', '10:30'}\n",
      "OUTPUT: first_item_set = first_item_set.intersection(current_item) = {'10:30', '12:00', '14:30'}\n",
      "\n",
      "CURRENT ITEM IN THE FOR LOOP: {'11:30', '09:30', '09:00', '13:30', '12:00', '14:30', '15:00', '11:00'}\n",
      "ITEM WE ARE COMPARING TO: {'10:30', '12:00', '14:30'}\n",
      "OUTPUT: first_item_set = first_item_set.intersection(current_item) = {'12:00', '14:30'}\n",
      "\n",
      "CURRENT ITEM IN THE FOR LOOP: {'11:30', '17:00', '12:00', '14:30', '16:30', '14:00', '11:00'}\n",
      "ITEM WE ARE COMPARING TO: {'12:00', '14:30'}\n",
      "OUTPUT: first_item_set = first_item_set.intersection(current_item) = {'12:00', '14:30'}\n",
      "\n",
      "** Here's the answer: ***************\n",
      "   {'12:00', '14:30'} \n",
      "*************************************\n",
      "\n"
     ]
    }
   ],
   "source": [
    "def main():\n",
    "    item1 = ['09:00', '10:30', '11:30', '12:00', '13:00', '14:30']\n",
    "    item2 = ['09:30', '10:00', '10:30', '12:00', '14:30', '16:00']\n",
    "    item3 = ['09:00', '09:30', '11:00', '11:30', '12:00', '13:30', '14:30', '15:00']\n",
    "    item4 = ['11:00', '11:30', '12:00', '14:00', '14:30', '16:30', '17:00']\n",
    "\n",
    "    def meeting(first_item,*time_lists):\n",
    "        first_item_set = set(first_item)\n",
    "        print(f\"\\nFIRST ITEM PUT INTO THE FUNCTION:\\n{first_item_set}\\n\")\n",
    "        for current_item in time_lists:\n",
    "            print(f\"CURRENT ITEM IN THE FOR LOOP: {set(current_item)}\")\n",
    "            print(f\"ITEM WE ARE COMPARING TO: {first_item_set}\")\n",
    "            first_item_set = first_item_set.intersection(current_item)\n",
    "            print(f\"OUTPUT: first_item_set = first_item_set.intersection(current_item) = {first_item_set}\\n\")\n",
    "        print(\"** Here's the answer: ***************\\n  \",first_item_set,\"\\n*************************************\\n\")\n",
    "\n",
    "    meeting(item1,item2,item3,item4)\n",
    "\n",
    "main()"
   ]
  }
 ],
 "metadata": {
  "kernelspec": {
   "display_name": "Python 3.10.5 64-bit",
   "language": "python",
   "name": "python3"
  },
  "language_info": {
   "codemirror_mode": {
    "name": "ipython",
    "version": 3
   },
   "file_extension": ".py",
   "mimetype": "text/x-python",
   "name": "python",
   "nbconvert_exporter": "python",
   "pygments_lexer": "ipython3",
   "version": "3.10.5"
  },
  "orig_nbformat": 4,
  "vscode": {
   "interpreter": {
    "hash": "aee8b7b246df8f9039afb4144a1f6fd8d2ca17a180786b69acc140d282b71a49"
   }
  }
 },
 "nbformat": 4,
 "nbformat_minor": 2
}
