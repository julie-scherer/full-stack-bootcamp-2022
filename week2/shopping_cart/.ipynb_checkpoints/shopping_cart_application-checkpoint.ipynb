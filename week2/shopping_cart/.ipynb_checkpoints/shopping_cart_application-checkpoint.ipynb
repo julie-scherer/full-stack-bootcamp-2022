{
 "cells": [
  {
   "cell_type": "markdown",
   "id": "826bff42",
   "metadata": {},
   "source": [
    "##### Build a shopping cart program with the following capabilities:<br>\n",
    "1) Takes in an input<br>\n",
    "2) Stores user input into a dictionary or list<br>\n",
    "3) The User can add or delete items<br>\n",
    "4) The User can see current shopping list<br>\n",
    "5) The program Loops until user 'quits'<br>\n",
    "6) Upon quiting the program, prints out a receipt of the items with total and quantity.<br>"
   ]
  },
  {
   "cell_type": "code",
   "execution_count": null,
   "id": "3f13b510",
   "metadata": {},
   "outputs": [],
   "source": []
  }
 ],
 "metadata": {
  "kernelspec": {
   "display_name": "Python 3 (ipykernel)",
   "language": "python",
   "name": "python3"
  },
  "language_info": {
   "codemirror_mode": {
    "name": "ipython",
    "version": 3
   },
   "file_extension": ".py",
   "mimetype": "text/x-python",
   "name": "python",
   "nbconvert_exporter": "python",
   "pygments_lexer": "ipython3",
   "version": "3.10.5"
  }
 },
 "nbformat": 4,
 "nbformat_minor": 5
}
