{
 "cells": [
  {
   "cell_type": "markdown",
   "id": "826bff42",
   "metadata": {},
   "source": [
    "##### Build a shopping cart program with the following capabilities:<br>\n",
    "1) Takes in an input<br>\n",
    "2) Stores user input into a dictionary or list<br>\n",
    "3) The User can add or delete items<br>\n",
    "4) The User can see current shopping list<br>\n",
    "5) The program Loops until user 'quits'<br>\n",
    "6) Upon quiting the program, prints out a receipt of the items with total and quantity.<br>"
   ]
  },
  {
   "cell_type": "code",
   "execution_count": null,
   "id": "3f13b510",
   "metadata": {},
   "outputs": [],
   "source": [
    "def shopping_cart():\n",
    "    grocery_list = {}\n",
    "    item = input(\"What would you like to add to your shopping cart?  \").lower()\n",
    "    no_items = int(input(f\"How many {item} would you like to add?  \"))\n",
    "    cost = float(input(f\"How much does each {item} cost? Please enter in $0.00 format.  \").strip('$'))\n",
    "    grocery_list[item] = {'No':no_items, 'Cost':cost*no_items}\n",
    "    print(f\"{no_items} {item} added to your cart.\")\n",
    "    \n",
    "    while True:\n",
    "        action = input(\"What would you like to do? add/remove/show/clear/quit  \").lower()\n",
    "        if action == \"add\":\n",
    "            item = input(\"What would you like to add to your shopping cart?  \").lower()\n",
    "            no_items = int(input(f\"How many {item} would you like to add?  \"))\n",
    "            cost = float(input(f\"How much does each {item} cost? Please enter in $0.00 format.  \").strip('$'))\n",
    "            grocery_list[item] = {'No':no_items, 'Cost':cost*no_items}\n",
    "            print(f\"{no_items} {item} added to your cart.\")\n",
    "        \n",
    "        elif action == \"remove\":\n",
    "            print(\"Your current cart:\")\n",
    "            for key, value in grocery_list.items():\n",
    "                no_items = value['No']\n",
    "                cost = value['Cost']\n",
    "                print(\"{} {}    ${:.2f}\".format(no_items, key.title(), cost))\n",
    "\n",
    "            item = input(\"What would you like to remove from your shopping cart?  \").lower()\n",
    "            no_items = int(input(f\"How many {item} would you like to remove?  \"))\n",
    "            if no_items == grocery_list.get(key).get('No'):\n",
    "                del grocery_list[item]\n",
    "                print(f\"{item.title()} has been removed from your cart.\")\n",
    "            else:\n",
    "                old_num = grocery_list.get(key).get('No')\n",
    "                cost = grocery_list.get(key).get('Cost')\n",
    "                new_num = old_num - no_items\n",
    "                new_cost = (cost / old_num) * new_num\n",
    "                grocery_list[item] = {'Cost':new_cost, 'No':new_num}\n",
    "                print(f\"You now have {new_num} {item} in your cart.\")\n",
    "        \n",
    "        elif action == \"show\":\n",
    "            print(\"Your current cart:\")\n",
    "            if len(grocery_list) == 0:\n",
    "                print(\"There are no items in your cart.\")\n",
    "            else:\n",
    "                for key, value in grocery_list.items():\n",
    "                    no_items = value['No']\n",
    "                    cost = value['Cost']\n",
    "                    print(\"{} {}    ${:.2f}\".format(no_items, key.title(), cost))\n",
    "        \n",
    "        elif action == \"clear\":\n",
    "            grocery_list = {}\n",
    "            print(\"Your shopping cart is cleared.\")\n",
    "        \n",
    "        else:\n",
    "            print(\"Thank you for shopping with us!\")\n",
    "            break\n",
    "\n",
    "shopping_cart()"
   ]
  }
 ],
 "metadata": {
  "kernelspec": {
   "display_name": "Python 3 (ipykernel)",
   "language": "python",
   "name": "python3"
  },
  "language_info": {
   "codemirror_mode": {
    "name": "ipython",
    "version": 3
   },
   "file_extension": ".py",
   "mimetype": "text/x-python",
   "name": "python",
   "nbconvert_exporter": "python",
   "pygments_lexer": "ipython3",
   "version": "3.10.5"
  },
  "vscode": {
   "interpreter": {
    "hash": "aee8b7b246df8f9039afb4144a1f6fd8d2ca17a180786b69acc140d282b71a49"
   }
  }
 },
 "nbformat": 4,
 "nbformat_minor": 5
}
