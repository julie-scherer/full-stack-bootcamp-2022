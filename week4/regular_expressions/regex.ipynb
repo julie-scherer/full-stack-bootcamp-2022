{
 "cells": [
  {
   "cell_type": "markdown",
   "metadata": {},
   "source": [
    "### Regex project\n",
    "\n",
    "Use python to read the file regex_test.txt and print the last name on each line using regular expressions and groups (return None for names with no first and last name, or names that aren't properly capitalized)"
   ]
  },
  {
   "cell_type": "code",
   "execution_count": 1,
   "metadata": {},
   "outputs": [],
   "source": [
    "# Expected Output:\n",
    "# Abraham Lincoln\n",
    "# Andrew P Garfield\n",
    "# Connor Milliken\n",
    "# Jordan Alexander Williams\n",
    "# None\n",
    "# None"
   ]
  },
  {
   "cell_type": "code",
   "execution_count": 45,
   "metadata": {},
   "outputs": [
    {
     "name": "stdout",
     "output_type": "stream",
     "text": [
      "['Abraham Lincoln', 'Andrew P Garfield', 'Connor Milliken', 'Jordan Alexander Williams', 'Madonna', 'programming is cool']\n",
      "Abraham Lincoln\n",
      "Andrew P Garfield\n",
      "Connor Milliken\n",
      "Jordan Alexander Williams\n",
      "None\n",
      "None\n"
     ]
    }
   ],
   "source": [
    "import re\n",
    "with open(\"regex_test.txt\") as file:\n",
    "    data = file.readlines()\n",
    "    clean_data = [line.strip().split('\\t')[0] for line in data]\n",
    "    # print(clean_data)\n",
    "    for name in clean_data:\n",
    "        compiler = re.compile('^[A-Z][a-z]+\\s[A-Z?a-z+]')\n",
    "        # ^[A-Z]    : starts with capital letter \n",
    "        # [a-z]+    : immediately followed by at least 1 lowercase letter, [a-z]+\n",
    "        # \\s        : white space\n",
    "        # [A-Z?...  : 0 or 1 capital letters, A-Z?\n",
    "        # ...a-z*]  : immediately followed by at least 1 lowercase letter, a-z+\n",
    "        found = compiler.match(name)\n",
    "        if found:\n",
    "            print(name)\n",
    "        else:\n",
    "            print(None)"
   ]
  }
 ],
 "metadata": {
  "kernelspec": {
   "display_name": "Python 3.10.5 64-bit",
   "language": "python",
   "name": "python3"
  },
  "language_info": {
   "codemirror_mode": {
    "name": "ipython",
    "version": 3
   },
   "file_extension": ".py",
   "mimetype": "text/x-python",
   "name": "python",
   "nbconvert_exporter": "python",
   "pygments_lexer": "ipython3",
   "version": "3.10.5"
  },
  "orig_nbformat": 4,
  "vscode": {
   "interpreter": {
    "hash": "aee8b7b246df8f9039afb4144a1f6fd8d2ca17a180786b69acc140d282b71a49"
   }
  }
 },
 "nbformat": 4,
 "nbformat_minor": 2
}
