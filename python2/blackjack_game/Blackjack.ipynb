{
 "cells": [
  {
   "cell_type": "markdown",
   "metadata": {},
   "source": [
    "## Python Blackjack\n",
    "For this project you will make a Blackjack game using Python. Click <a href=\"http://www.hitorstand.net/strategy.php\">here</a> to familiarize yourself with the the rules of the game. You won't be implementing every rule \"down to the letter\" with the game, but we will doing a simpler version of the game. This assignment will be given to further test your knowledge on object-oriented programming concepts.\n",
    "\n",
    "### Rules:\n",
    "\n",
    "`1. ` The game will have two players: the Dealer and the Player. The game will start off with a deck of 52 cards. The 52 cards will consist of 4 different suits: Clubs, Diamonds, Hearts and Spades. For each suit, there will be cards numbered 1 through 13. <br>\n",
    "**Note: No wildcards will be used in the program**\n",
    "\n",
    "`2. ` When the game begins, the dealer will shuffle the deck of cards, making them randomized. After the dealer shuffles, it will deal the player 2 cards and will deal itself 2 cards from. The Player should be able to see both of their own cards, but should only be able to see one of the Dealer's cards.\n",
    " \n",
    "`3. ` The objective of the game is for the Player to count their cards after they're dealt. If they're not satisfied with the number, they have the ability to 'Hit'. A hit allows the dealer to deal the Player one additional card. The Player can hit as many times as they'd like as long as they don't 'Bust'. A bust is when the Player is dealt cards that total more than 21.\n",
    "\n",
    "`4. ` If the dealer deals the Player cards equal to 21 on the **first** deal, the Player wins. This is referred to as Blackjack. Blackjack is **NOT** the same as getting cards that equal up to 21 after the first deal. Blackjack can only be attained on the first deal.\n",
    "\n",
    "`5. ` The Player will never see the Dealer's hand until the Player chooses to 'stand'. A Stand is when the player tells the dealer to not deal it anymore cards. Once the player chooses to Stand, the Player and the Dealer will compare their hands. Whoever has the higher number wins. Keep in mind that the Dealer can also bust. "
   ]
  },
  {
   "cell_type": "code",
   "execution_count": 1,
   "metadata": {
    "scrolled": true
   },
   "outputs": [
    {
     "name": "stdout",
     "output_type": "stream",
     "text": [
      "King of Clubs\n",
      "8 of Diamonds\n",
      "Ace of Hearts\n"
     ]
    }
   ],
   "source": [
    "class Card:\n",
    "    suits = [\"Spades\",\"Clubs\",\"Hearts\",\"Diamonds\"]\n",
    "    nums = ['Ace','2','3','4','5','6','7','8','9','10','Jack','Queen','King']\n",
    "\n",
    "    def __init__(self, suit, card_num) -> None:\n",
    "        self.suit = suit\n",
    "        self.card_num = card_num\n",
    "        self.pt_value = card_num + 1\n",
    "        if card_num > 10:\n",
    "            self.pt_value = 10\n",
    "    \n",
    "    def __str__(self) -> str:\n",
    "        return \"{} of {}\".format(Card.nums[self.card_num], Card.suits[self.suit])\n",
    "\n",
    "print(Card(1,12))\n",
    "print(Card(3,7))\n",
    "print(Card(2,0))"
   ]
  },
  {
   "cell_type": "code",
   "execution_count": 7,
   "metadata": {},
   "outputs": [
    {
     "name": "stdout",
     "output_type": "stream",
     "text": [
      "['Ace of Spades', '2 of Spades', '3 of Spades', '4 of Spades', '5 of Spades', '6 of Spades', '7 of Spades', '8 of Spades', '9 of Spades', '10 of Spades', 'Jack of Spades', 'Queen of Spades', 'King of Spades', 'Ace of Clubs', '2 of Clubs', '3 of Clubs', '4 of Clubs', '5 of Clubs', '6 of Clubs', '7 of Clubs', '8 of Clubs', '9 of Clubs', '10 of Clubs', 'Jack of Clubs', 'Queen of Clubs', 'King of Clubs', 'Ace of Hearts', '2 of Hearts', '3 of Hearts', '4 of Hearts', '5 of Hearts', '6 of Hearts', '7 of Hearts', '8 of Hearts', '9 of Hearts', '10 of Hearts', 'Jack of Hearts', 'Queen of Hearts', 'King of Hearts', 'Ace of Diamonds', '2 of Diamonds', '3 of Diamonds', '4 of Diamonds', '5 of Diamonds', '6 of Diamonds', '7 of Diamonds', '8 of Diamonds', '9 of Diamonds', '10 of Diamonds', 'Jack of Diamonds', 'Queen of Diamonds', 'King of Diamonds']\n",
      "- - - - - - - - - - - - - - - - - - - - - - - - - - - - - - - - - - - -\n",
      "['9 of Diamonds', 'Jack of Hearts', '9 of Clubs', 'Ace of Spades', '3 of Spades', '8 of Diamonds', '6 of Diamonds', 'Queen of Hearts', '7 of Hearts', '4 of Diamonds', '10 of Diamonds', '7 of Diamonds', '3 of Hearts', 'Jack of Clubs', '3 of Diamonds', 'King of Spades', '9 of Spades', 'Ace of Diamonds', '9 of Hearts', '7 of Spades', 'King of Hearts', '6 of Clubs', '5 of Spades', 'Queen of Spades', '2 of Diamonds', '7 of Clubs', 'King of Diamonds', '10 of Clubs', '2 of Hearts', '5 of Hearts', '10 of Hearts', '6 of Spades', 'Queen of Clubs', 'Ace of Clubs', 'Jack of Spades', 'Ace of Hearts', '2 of Spades', 'Jack of Diamonds', '10 of Spades', 'Queen of Diamonds', '4 of Spades', '5 of Diamonds', '6 of Hearts', '8 of Clubs', '4 of Clubs', '8 of Hearts', 'King of Clubs', '5 of Clubs', '4 of Hearts', '2 of Clubs', '3 of Clubs', '8 of Spades']\n"
     ]
    }
   ],
   "source": [
    "import random\n",
    "\n",
    "class Deck:\n",
    "    def __init__(self) -> None:\n",
    "        self.cards = []\n",
    "        for s in range(4):      # suits (1-4)\n",
    "            for n in range (13):        # card numbers (1-13)\n",
    "                self.cards.append(Card(s,n))    # each element in list, self.cards, is an instance of the Card class, with an associated pt_value\n",
    "    \n",
    "    def __str__(self) -> str:\n",
    "        str_formatted_cards = []    # create an empty list to store str type of each card in self.cards\n",
    "        for card in self.cards:\n",
    "            str_formatted_cards.append(str(card))   # str() here is calling __str__ method in Card class\n",
    "        return \"{}\".format(str_formatted_cards)     # return list of str types as string\n",
    "    \n",
    "    def shuffle(self):\n",
    "        return random.shuffle(self.cards)\n",
    "    \n",
    "    def deal(self, person, n=0):  # assign self as 'person' argument later; n is the number of cards to deal\n",
    "        # person = []\n",
    "        for i in range(n):\n",
    "            # person.append(self.cards.pop(i))      # appends to empty list above\n",
    "            # person.hand.append(self.cards.pop(i))     # appends to person.hand (self.hand) list in Person class\n",
    "            person.cards.append(self.cards.pop(i))    # appends to person.cards (self.cards) list in Person (child) class, inheriting str format of self.cards in Deck class\n",
    "        return person\n",
    "\n",
    "\n",
    "print(Deck())\n",
    "print(\"- - - - - - - - - - - - - - - - - - - - - - - - - - - - - - - - - - - -\")\n",
    "shuffled_deck = Deck()\n",
    "shuffled_deck.shuffle()\n",
    "print(shuffled_deck)"
   ]
  },
  {
   "cell_type": "code",
   "execution_count": 3,
   "metadata": {},
   "outputs": [],
   "source": [
    "class Person(Deck):\n",
    "    def __init__(self) -> None:\n",
    "        super().__init__()\n",
    "        self.cards = [] # instead of writing same _str_ method as Deck class, set Deck class as parent and overwrite self.card as an empty list \n",
    "        # self.hand = []\n",
    "        \n",
    "    # def __str__(self) -> str:\n",
    "    #     str_formatted_hand = []\n",
    "    #     for card in self.hand:\n",
    "    #         str_formatted_hand.append(str(card))\n",
    "    #     return \"{}\".format(str_formatted_hand)\n",
    "    \n",
    "    def score(self):\n",
    "        score = 0\n",
    "        # for card in self.hand:\n",
    "        for card in self.cards:\n",
    "            score += card.pt_value\n",
    "        return score\n",
    "    \n",
    "    def play(self, deck):\n",
    "        deck.shuffle()      # shuffle the deck\n",
    "        deck.deal(self, n=2)    # deal 2 cards from the deck, i.e., call deal() method in Deck class, pass person as self, and specify 2 cards"
   ]
  },
  {
   "cell_type": "code",
   "execution_count": 4,
   "metadata": {},
   "outputs": [
    {
     "name": "stdout",
     "output_type": "stream",
     "text": [
      "Dealer's hand: Queen of Hearts, x\n"
     ]
    }
   ],
   "source": [
    "class Dealer(Person):\n",
    "    def __init__(self) -> None:\n",
    "        super().__init__()\n",
    "    \n",
    "    def play(self, deck):\n",
    "        super().play(deck)     # call parent method using super() function\n",
    "\n",
    "        print(f\"Dealer's hand: {self.cards[0]}, x\")\n",
    "\n",
    "        if self.score == 21:\n",
    "            print(\"Blackjack! Dealer won.\")\n",
    "\n",
    "Dealer().play(Deck())"
   ]
  },
  {
   "cell_type": "code",
   "execution_count": 8,
   "metadata": {},
   "outputs": [
    {
     "name": "stdout",
     "output_type": "stream",
     "text": [
      "['Queen of Spades', '7 of Diamonds']\n",
      "Score: 17\n"
     ]
    }
   ],
   "source": [
    "class Player(Person):\n",
    "    def __init__(self) -> None:\n",
    "        super().__init__()\n",
    "    \n",
    "    def play(self, deck):\n",
    "        super().play(deck)     # call parent method using super() function\n",
    "\n",
    "        # print(self.hand)\n",
    "        # print(self.cards)\n",
    "        print(self)     # self *is* self.cards\n",
    "        print(f\"Score: {self.score()}\")     # update and return player's score (see score() method in Person class)\n",
    "\n",
    "        if self.score == 21:\n",
    "            print(\"Blackjack! You won!\")\n",
    "\n",
    "        hitting = True\n",
    "        while hitting:\n",
    "            go = input(\"Do you want to 'hit' or 'stay'? \").lower()\n",
    "            if go == 'hit':\n",
    "                # self.append(self.cards.pop(1))    # DRY ALERT! repeating deal() method in Deck class ...\n",
    "                deck.deal(self, n=1)    # simplified version\n",
    "                print(self)\n",
    "                print(f\"Score: {self.score()}\")\n",
    "                if self.score() > 21:\n",
    "                    print(\"You busted!\")\n",
    "                    hitting = False\n",
    "            else:\n",
    "                break\n",
    "\n",
    "Player().play(Deck())"
   ]
  },
  {
   "cell_type": "code",
   "execution_count": 9,
   "metadata": {},
   "outputs": [
    {
     "name": "stdout",
     "output_type": "stream",
     "text": [
      "Dealer's hand: Queen of Spades, x\n",
      "\n",
      "- - - - - - - - - - - -\n",
      "Player 1 is now playing.\n",
      "\n",
      "['Ace of Clubs', '6 of Clubs']\n",
      "Score: 7\n",
      "['Ace of Clubs', '6 of Clubs', '5 of Clubs']\n",
      "Score: 12\n",
      "['Ace of Clubs', '6 of Clubs', '5 of Clubs', '10 of Spades']\n",
      "Score: 22\n",
      "You busted!\n",
      "\n",
      "- - - - - - - - - - - -\n",
      "Dealer won!\n"
     ]
    }
   ],
   "source": [
    "def blackjack(player1,dealer):\n",
    "    deck = Deck()\n",
    "    \n",
    "    dealer.play(deck)\n",
    "\n",
    "    print(\"\\n- - - - - - - - - - - -\")\n",
    "    print(\"Player 1 is now playing.\\n\")\n",
    "    player1.play(deck)\n",
    "\n",
    "    print(\"\\n- - - - - - - - - - - -\")\n",
    "    if player1.score() > 21 and dealer.score() < 21:\n",
    "        print(\"Dealer won!\")\n",
    "    elif dealer.score() > 21 and player1.score() < 21:\n",
    "        print(\"Player 1 won!\")\n",
    "    elif player1.score() > dealer.score():\n",
    "        print(\"Player 1 won!\")\n",
    "    elif player1.score() < dealer.score():\n",
    "        print(\"Dealer won!\")\n",
    "\n",
    "dealer = Dealer()\n",
    "player1 = Player()\n",
    "blackjack(player1,dealer)"
   ]
  }
 ],
 "metadata": {
  "kernelspec": {
   "display_name": "Python 3.10.5 64-bit",
   "language": "python",
   "name": "python3"
  },
  "language_info": {
   "codemirror_mode": {
    "name": "ipython",
    "version": 3
   },
   "file_extension": ".py",
   "mimetype": "text/x-python",
   "name": "python",
   "nbconvert_exporter": "python",
   "pygments_lexer": "ipython3",
   "version": "3.10.5"
  },
  "vscode": {
   "interpreter": {
    "hash": "aee8b7b246df8f9039afb4144a1f6fd8d2ca17a180786b69acc140d282b71a49"
   }
  }
 },
 "nbformat": 4,
 "nbformat_minor": 2
}
