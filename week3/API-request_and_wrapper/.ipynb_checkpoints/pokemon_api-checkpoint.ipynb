{
 "cells": [
  {
   "cell_type": "markdown",
   "metadata": {},
   "source": [
    "# Pokemon API Wrapper\n",
    "Create a python wrapper for the Pokemon API. It should take in a pokemon name and display the pokemon with its height and weight"
   ]
  },
  {
   "cell_type": "code",
   "execution_count": 2,
   "metadata": {},
   "outputs": [
    {
     "name": "stdout",
     "output_type": "stream",
     "text": [
      "Name: squirtle\n",
      "Height: 5\n",
      "Weight: 90\n",
      "Sprite: https://raw.githubusercontent.com/PokeAPI/sprites/master/sprites/pokemon/7.png\n",
      "Name: pikachu\n",
      "Height: 4\n",
      "Weight: 60\n",
      "Sprite: https://raw.githubusercontent.com/PokeAPI/sprites/master/sprites/pokemon/25.png\n"
     ]
    }
   ],
   "source": [
    "import requests\n",
    "\n",
    "class Pokemon:\n",
    "    def __init__(self) -> None:\n",
    "        self.url = 'https://pokeapi.co/api/v2/pokemon'\n",
    "    \n",
    "    def _get(self, pokemon_name, **params):\n",
    "        pokemon_url = f\"{self.url}/{pokemon_name}\"\n",
    "        pokemon_request = requests.get(pokemon_url)\n",
    "        if pokemon_request.ok:\n",
    "            return pokemon_request.json()\n",
    "        else:\n",
    "            print(\"Error message\")\n",
    "        \n",
    "    def display_pokemon(self, pokemon_name):\n",
    "        pokemon_data = self._get(pokemon_name)\n",
    "        pokemon_name = pokemon_data['name']\n",
    "        pokemon_height = pokemon_data['height']\n",
    "        pokemon_weight = pokemon_data['weight']\n",
    "        pokemon_sprite = pokemon_data['sprites']['front_default']\n",
    "        print(f\"Name: {pokemon_name}\\nHeight: {pokemon_height}\\nWeight: {pokemon_weight}\\nSprite: {pokemon_sprite}\")\n",
    "\n",
    "pokemon1 = Pokemon()\n",
    "pokemon1.display_pokemon('squirtle')\n",
    "\n",
    "pokemon2 = Pokemon()\n",
    "pokemon2.display_pokemon('pikachu')"
   ]
  }
 ],
 "metadata": {
  "kernelspec": {
   "display_name": "Python 3 (ipykernel)",
   "language": "python",
   "name": "python3"
  },
  "language_info": {
   "codemirror_mode": {
    "name": "ipython",
    "version": 3
   },
   "file_extension": ".py",
   "mimetype": "text/x-python",
   "name": "python",
   "nbconvert_exporter": "python",
   "pygments_lexer": "ipython3",
   "version": "3.10.5"
  },
  "vscode": {
   "interpreter": {
    "hash": "aee8b7b246df8f9039afb4144a1f6fd8d2ca17a180786b69acc140d282b71a49"
   }
  }
 },
 "nbformat": 4,
 "nbformat_minor": 2
}
