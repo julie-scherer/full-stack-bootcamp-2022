{
 "cells": [
  {
   "cell_type": "markdown",
   "metadata": {},
   "source": [
    "### Exercise #1 <br>\n",
    "<p>Reverse the list below in-place using an in-place algorithm.<br>For extra credit: Reverse the strings at the same time.</p>"
   ]
  },
  {
   "cell_type": "code",
   "execution_count": 14,
   "metadata": {},
   "outputs": [],
   "source": [
    "words = ['this' , 'is', 'a', 'sentence', '.']"
   ]
  },
  {
   "cell_type": "code",
   "execution_count": 15,
   "metadata": {},
   "outputs": [
    {
     "data": {
      "text/plain": [
       "['.', 'sentence', 'a', 'is', 'this']"
      ]
     },
     "execution_count": 15,
     "metadata": {},
     "output_type": "execute_result"
    }
   ],
   "source": [
    "def swap(a_list, index1=0, index2=1, index3=-2, index4=-1):\n",
    "    a_list[index1], a_list[index2], a_list[index3], a_list[index4] = a_list[index4], a_list[index3], a_list[index2], a_list[index1]     # constant time algorithm, i.e., same time no matter how big list is)\n",
    "    return a_list\n",
    "swap(words)"
   ]
  },
  {
   "cell_type": "code",
   "execution_count": 16,
   "metadata": {},
   "outputs": [
    {
     "data": {
      "text/plain": [
       "['this', 'is', 'a', 'sentence', '.']"
      ]
     },
     "execution_count": 16,
     "metadata": {},
     "output_type": "execute_result"
    }
   ],
   "source": [
    "def reverse_list(list_):\n",
    "    if len(list_) > 1:\n",
    "        midpt = len(list_)//2\n",
    "        left = list_[:midpt]\n",
    "        right = list_[midpt:]\n",
    "        i = 0\n",
    "        j = -1\n",
    "        while i < len(left) and j > -len(right):\n",
    "            list_[i], list_[j] = list_[j], list_[i]\n",
    "            i += 1\n",
    "            j -= 1\n",
    "        return list_\n",
    "\n",
    "reverse_list(words)"
   ]
  },
  {
   "cell_type": "code",
   "execution_count": 17,
   "metadata": {},
   "outputs": [
    {
     "name": "stdout",
     "output_type": "stream",
     "text": [
      "['.', 'sentence', 'a', 'is', 'this']\n"
     ]
    }
   ],
   "source": [
    "class SortingAlgo():\n",
    "    def __init__(self, iter) -> None:\n",
    "        self.iter = iter\n",
    "        self.midpt = len(list_)//2\n",
    "        self.left = list_[:self.midpt]\n",
    "        self.right = list_[self.midpt:]\n",
    "\n",
    "class ReverseList(SortingAlgo):\n",
    "    def __init__(self, iter) -> None:\n",
    "        super().__init__(iter)\n",
    "        self.list_ = iter\n",
    "    \n",
    "    def run(self):\n",
    "        if len(self.list_) > 1:\n",
    "            i = 0\n",
    "            j = -1\n",
    "            while i < len(self.left) and j > -len(self.right):\n",
    "                list_[i], list_[j] = list_[j], list_[i]\n",
    "                i += 1\n",
    "                j -= 1\n",
    "        return list_\n",
    "\n",
    "print(ReverseList(list_).run())"
   ]
  },
  {
   "cell_type": "code",
   "execution_count": 18,
   "metadata": {},
   "outputs": [
    {
     "data": {
      "text/plain": [
       "['.', 'ecntenes', 'a', 'is', 'shit']"
      ]
     },
     "execution_count": 18,
     "metadata": {},
     "output_type": "execute_result"
    }
   ],
   "source": [
    "# attempt 1 ~ needs more work\n",
    "def reverse_str(str_):      \n",
    "    iter = [char for char in str_]\n",
    "    if len(iter) > 3:\n",
    "        midpt = len(iter)//2\n",
    "        left = iter[:midpt]\n",
    "        right = iter[midpt:]\n",
    "        i = 0\n",
    "        j = -1\n",
    "        while i < len(left) and j > -len(right):\n",
    "            iter[i], iter[j] = iter[j], iter[i]\n",
    "            i += 1\n",
    "            j -= 1\n",
    "    return ''.join(iter)\n",
    "\n",
    "reversed_words = reverse_list(words)\n",
    "[reverse_str(word) for word in reversed_words]\n"
   ]
  },
  {
   "cell_type": "markdown",
   "metadata": {},
   "source": [
    "### Exercise #2 <br>\n",
    "<p>Create a function that counts how many distinct words are in the string below, then outputs a dictionary with the words as the key and the value as the amount of times that word appears in the string.</p>\n",
    "Example Output:<code>{'in': 1, 'computing': 1, 'a': 5, ...}</code>"
   ]
  },
  {
   "cell_type": "code",
   "execution_count": 19,
   "metadata": {},
   "outputs": [
    {
     "data": {
      "text/plain": [
       "{'in': 1,\n",
       " 'computing': 1,\n",
       " 'a': 5,\n",
       " 'hash': 4,\n",
       " 'table': 2,\n",
       " 'map': 2,\n",
       " 'is': 1,\n",
       " 'data': 2,\n",
       " 'structure': 2,\n",
       " 'which': 2,\n",
       " 'implements': 1,\n",
       " 'an': 3,\n",
       " 'associative': 1,\n",
       " 'array': 2,\n",
       " 'abstract': 1,\n",
       " 'type': 1,\n",
       " 'that': 1,\n",
       " 'can': 2,\n",
       " 'keys': 1,\n",
       " 'to': 2,\n",
       " 'values': 1,\n",
       " 'uses': 1,\n",
       " 'function': 1,\n",
       " 'compute': 1,\n",
       " 'index': 1,\n",
       " 'into': 1,\n",
       " 'of': 1,\n",
       " 'buckets': 1,\n",
       " 'or': 1,\n",
       " 'slots': 1,\n",
       " 'from': 1,\n",
       " 'the': 1,\n",
       " 'desired': 1,\n",
       " 'value': 1,\n",
       " 'be': 1,\n",
       " 'found': 1}"
      ]
     },
     "execution_count": 19,
     "metadata": {},
     "output_type": "execute_result"
    }
   ],
   "source": [
    "a_text = 'In computing, a hash table hash map is a data structure which implements an associative array abstract data type, a structure that can map keys to values. A hash table uses a hash function to compute an index into an array of buckets or slots from which the desired value can be found'\n",
    "\n",
    "import re\n",
    "words = re.sub('[^A-Za-z]+', ' ', a_text).lower().split(' ')    # re.sub(): https://datagy.io/python-remove-special-characters-from-string\n",
    "set_of_words = set(words)   # removes duplicates\n",
    "\n",
    "distinct_words = {}\n",
    "for str_ in words:\n",
    "    distinct_words[str_] = words.count(str_)\n",
    "distinct_words"
   ]
  },
  {
   "cell_type": "markdown",
   "metadata": {},
   "source": [
    "## Exercise #3\n",
    "\n",
    "Write a function implementing a Linear Search Algorithm. A linear search is a method for finding an element within a list. It sequentially checks each element of the list until a match is found or the whole list has been searched. If you do not find a match, return -1"
   ]
  },
  {
   "cell_type": "code",
   "execution_count": 20,
   "metadata": {},
   "outputs": [
    {
     "name": "stdout",
     "output_type": "stream",
     "text": [
      "Random List: [3, 51, 22, 15, 27, 11, 11, 76, 94, 60, 22, 81, 55, 54, 33, 91, 35, 4, 97, 2, 21, 92, 60, 95, 54, 58, 3, 42, 8, 24, 17, 13, 6, 32, 67, 82, 20, 53, 78, 40, 8, 98, 75, 92, 48, 22, 91, 57, 81, 100]\n",
      "Target: 76\n",
      "- - - - - - - - - - - - - - - - - - - - \n",
      "The index for 76 is 7\n"
     ]
    },
    {
     "data": {
      "text/plain": [
       "True"
      ]
     },
     "execution_count": 20,
     "metadata": {},
     "output_type": "execute_result"
    }
   ],
   "source": [
    "# Setup Input Values\n",
    "from random import randint\n",
    "rand_list = [randint(1,100) for _ in range(50)]\n",
    "target = randint(1,100)\n",
    "\n",
    "# Function to Run Linear Search Algorithm\n",
    "def linear_search(array, target):   \n",
    "    for i in range(len(array)):     # sequentially check each element of a list -> i\n",
    "        if array[i] == target:      # if true, match is found\n",
    "            print(f\"The index for {target} is {i}\")\n",
    "            return True             # returns index in list\n",
    "    else:\n",
    "        print(f\"Index not found for {target}\")\n",
    "        return -1   # if target is not present return -1\n",
    "\n",
    "# Run Program\n",
    "print(f\"Random List: {rand_list}\")\n",
    "print(f\"Target: {target}\")\n",
    "print(f\"- - - - - - - - - - - - - - - - - - - - \")\n",
    "linear_search(rand_list,target)"
   ]
  }
 ],
 "metadata": {
  "kernelspec": {
   "display_name": "Python 3.10.5 64-bit",
   "language": "python",
   "name": "python3"
  },
  "language_info": {
   "codemirror_mode": {
    "name": "ipython",
    "version": 3
   },
   "file_extension": ".py",
   "mimetype": "text/x-python",
   "name": "python",
   "nbconvert_exporter": "python",
   "pygments_lexer": "ipython3",
   "version": "3.10.5"
  },
  "orig_nbformat": 4,
  "vscode": {
   "interpreter": {
    "hash": "aee8b7b246df8f9039afb4144a1f6fd8d2ca17a180786b69acc140d282b71a49"
   }
  }
 },
 "nbformat": 4,
 "nbformat_minor": 2
}
