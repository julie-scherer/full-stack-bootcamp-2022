{
 "cells": [
  {
   "cell_type": "markdown",
   "metadata": {},
   "source": [
    "### Regex project\n",
    "\n",
    "Use python to read the file regex_test.txt and print the last name on each line using regular expressions and groups (return None for names with no first and last name, or names that aren't properly capitalized)"
   ]
  },
  {
   "cell_type": "code",
   "execution_count": 94,
   "metadata": {},
   "outputs": [
    {
     "name": "stdout",
     "output_type": "stream",
     "text": [
      "Lincoln\n",
      "Garfield\n",
      "Milliken\n",
      "Alexander\n",
      "None\n",
      "None\n"
     ]
    }
   ],
   "source": [
    "# convert text file to list of strings\n",
    "txtfile = \"regex_test.txt\"\n",
    "with open(txtfile) as file:\n",
    "    data = file.readlines()\n",
    "    clean_data = [line.strip().split('\\t')[0] for line in data]\n",
    "\n",
    "# define function that takes a string and returns corresponding match object if string matches the regular expression pattern and 'none' if it does not\n",
    "import re\n",
    "def valid_names(string):\n",
    "    pattern = re.compile(r'''\n",
    "    (?P<first>^[A-Z][a-z]+)     # string starts with capital letter, immediately followed by at least 1 lowercase letter (first name)\n",
    "    (?P<middle>\\s|\\s[A-Z?]\\s)   # first name is followed by white space   -OR-   white space, capital letter, white space (middle initial)\n",
    "    (?P<last>[A-Z][a-z][\\w]+)   # last name starts with a capital letter, followed by lowercase letter and unicode characters at least once\n",
    "    ''', re.M|re.X)\n",
    "    match = pattern.match(string)\n",
    "    if match:\n",
    "        return match.group('last')\n",
    "\n",
    "# iterate through list of strings and apply valid_names function to each string\n",
    "for string in clean_data:\n",
    "    print(valid_names(string))"
   ]
  }
 ],
 "metadata": {
  "kernelspec": {
   "display_name": "Python 3.10.5 64-bit",
   "language": "python",
   "name": "python3"
  },
  "language_info": {
   "codemirror_mode": {
    "name": "ipython",
    "version": 3
   },
   "file_extension": ".py",
   "mimetype": "text/x-python",
   "name": "python",
   "nbconvert_exporter": "python",
   "pygments_lexer": "ipython3",
   "version": "3.10.5"
  },
  "orig_nbformat": 4,
  "vscode": {
   "interpreter": {
    "hash": "aee8b7b246df8f9039afb4144a1f6fd8d2ca17a180786b69acc140d282b71a49"
   }
  }
 },
 "nbformat": 4,
 "nbformat_minor": 2
}
